{
 "cells": [
  {
   "cell_type": "code",
   "execution_count": 29,
   "metadata": {},
   "outputs": [
    {
     "name": "stderr",
     "output_type": "stream",
     "text": [
      "WARNING:absl:No training configuration found in the save file, so the model was *not* compiled. Compile it manually.\n"
     ]
    }
   ],
   "source": [
    "from tensorflow.keras.preprocessing.image import ImageDataGenerator #used for loading and transforming images\n",
    "from tensorflow import keras\n",
    "\n",
    "model = keras.models.load_model(\"../models/brain_tumor_cnn.h5\")\n"
   ]
  },
  {
   "cell_type": "code",
   "execution_count": 30,
   "metadata": {},
   "outputs": [],
   "source": [
    "train_dir = \"../dataset/Training/\"\n",
    "test_dir = \"../dataset/Testing/\""
   ]
  },
  {
   "cell_type": "code",
   "execution_count": 31,
   "metadata": {},
   "outputs": [],
   "source": [
    "train_datagen = ImageDataGenerator(\n",
    "    rescale = 1./255, #normalize pixel values\n",
    "    rotation_range = 20, #Rotate images randomly within 20 degrees\n",
    "    width_shift_range = 0.2, #Shift images horizontally by 20%\n",
    "    height_shift_range = 0.2, #shift images vertically by 20%\n",
    "    zoom_range = 0.2, # Random zooming (in and out by 20%)\n",
    "    horizontal_flip = True, #flip images horizontally\n",
    "    fill_mode = 'nearest' #fill empty pixels with nearst values\n",
    "\n",
    ")"
   ]
  },
  {
   "cell_type": "code",
   "execution_count": 32,
   "metadata": {},
   "outputs": [],
   "source": [
    "#No augmentation for validation and testing set\n",
    "test_datagen = ImageDataGenerator(rescale = 1./255)"
   ]
  },
  {
   "cell_type": "code",
   "execution_count": 33,
   "metadata": {},
   "outputs": [
    {
     "name": "stdout",
     "output_type": "stream",
     "text": [
      "Found 5712 images belonging to 4 classes.\n"
     ]
    }
   ],
   "source": [
    "#Load images from directory\n",
    "train_generator = train_datagen.flow_from_directory(\n",
    "    train_dir,\n",
    "    target_size=(224, 224), #Resize images to match CNN\n",
    "    batch_size = 32,\n",
    "    class_mode='categorical'\n",
    ")"
   ]
  },
  {
   "cell_type": "code",
   "execution_count": 34,
   "metadata": {},
   "outputs": [
    {
     "name": "stdout",
     "output_type": "stream",
     "text": [
      "Found 1311 images belonging to 4 classes.\n"
     ]
    }
   ],
   "source": [
    "test_generator = test_datagen.flow_from_directory(\n",
    "    test_dir,\n",
    "    target_size=(224, 224), #Resize images to match CNN\n",
    "    batch_size = 32,\n",
    "    class_mode='categorical'\n",
    ")"
   ]
  },
  {
   "cell_type": "code",
   "execution_count": 37,
   "metadata": {},
   "outputs": [],
   "source": [
    "model.compile(\n",
    "    loss='categorical_crossentropy',\n",
    "    optimizer='adam',\n",
    "    metrics=['accuracy']\n",
    ")\n"
   ]
  },
  {
   "cell_type": "code",
   "execution_count": 39,
   "metadata": {},
   "outputs": [
    {
     "name": "stdout",
     "output_type": "stream",
     "text": [
      "Epoch 1/20\n",
      "\u001b[1m179/179\u001b[0m \u001b[32m━━━━━━━━━━━━━━━━━━━━\u001b[0m\u001b[37m\u001b[0m \u001b[1m77s\u001b[0m 427ms/step - accuracy: 0.7852 - loss: 0.5517 - val_accuracy: 0.7658 - val_loss: 0.5266\n",
      "Epoch 2/20\n",
      "\u001b[1m179/179\u001b[0m \u001b[32m━━━━━━━━━━━━━━━━━━━━\u001b[0m\u001b[37m\u001b[0m \u001b[1m75s\u001b[0m 421ms/step - accuracy: 0.7816 - loss: 0.5615 - val_accuracy: 0.7674 - val_loss: 0.6208\n",
      "Epoch 3/20\n",
      "\u001b[1m179/179\u001b[0m \u001b[32m━━━━━━━━━━━━━━━━━━━━\u001b[0m\u001b[37m\u001b[0m \u001b[1m76s\u001b[0m 421ms/step - accuracy: 0.8059 - loss: 0.5297 - val_accuracy: 0.7597 - val_loss: 0.5942\n",
      "Epoch 4/20\n",
      "\u001b[1m179/179\u001b[0m \u001b[32m━━━━━━━━━━━━━━━━━━━━\u001b[0m\u001b[37m\u001b[0m \u001b[1m76s\u001b[0m 421ms/step - accuracy: 0.7931 - loss: 0.5303 - val_accuracy: 0.7773 - val_loss: 0.5903\n",
      "Epoch 5/20\n",
      "\u001b[1m179/179\u001b[0m \u001b[32m━━━━━━━━━━━━━━━━━━━━\u001b[0m\u001b[37m\u001b[0m \u001b[1m76s\u001b[0m 423ms/step - accuracy: 0.7956 - loss: 0.5282 - val_accuracy: 0.7590 - val_loss: 0.6611\n",
      "Epoch 6/20\n",
      "\u001b[1m179/179\u001b[0m \u001b[32m━━━━━━━━━━━━━━━━━━━━\u001b[0m\u001b[37m\u001b[0m \u001b[1m76s\u001b[0m 422ms/step - accuracy: 0.8062 - loss: 0.5157 - val_accuracy: 0.7849 - val_loss: 0.5454\n",
      "Epoch 7/20\n",
      "\u001b[1m179/179\u001b[0m \u001b[32m━━━━━━━━━━━━━━━━━━━━\u001b[0m\u001b[37m\u001b[0m \u001b[1m76s\u001b[0m 421ms/step - accuracy: 0.8002 - loss: 0.5099 - val_accuracy: 0.7796 - val_loss: 0.5207\n",
      "Epoch 8/20\n",
      "\u001b[1m179/179\u001b[0m \u001b[32m━━━━━━━━━━━━━━━━━━━━\u001b[0m\u001b[37m\u001b[0m \u001b[1m79s\u001b[0m 439ms/step - accuracy: 0.8161 - loss: 0.4834 - val_accuracy: 0.7262 - val_loss: 0.8576\n",
      "Epoch 9/20\n",
      "\u001b[1m179/179\u001b[0m \u001b[32m━━━━━━━━━━━━━━━━━━━━\u001b[0m\u001b[37m\u001b[0m \u001b[1m87s\u001b[0m 485ms/step - accuracy: 0.8186 - loss: 0.4860 - val_accuracy: 0.7941 - val_loss: 0.5050\n",
      "Epoch 10/20\n",
      "\u001b[1m179/179\u001b[0m \u001b[32m━━━━━━━━━━━━━━━━━━━━\u001b[0m\u001b[37m\u001b[0m \u001b[1m84s\u001b[0m 469ms/step - accuracy: 0.8216 - loss: 0.4730 - val_accuracy: 0.7979 - val_loss: 0.4904\n",
      "Epoch 11/20\n",
      "\u001b[1m179/179\u001b[0m \u001b[32m━━━━━━━━━━━━━━━━━━━━\u001b[0m\u001b[37m\u001b[0m \u001b[1m77s\u001b[0m 430ms/step - accuracy: 0.8295 - loss: 0.4477 - val_accuracy: 0.7918 - val_loss: 0.5127\n",
      "Epoch 12/20\n",
      "\u001b[1m179/179\u001b[0m \u001b[32m━━━━━━━━━━━━━━━━━━━━\u001b[0m\u001b[37m\u001b[0m \u001b[1m81s\u001b[0m 452ms/step - accuracy: 0.8173 - loss: 0.4839 - val_accuracy: 0.8009 - val_loss: 0.4867\n",
      "Epoch 13/20\n",
      "\u001b[1m179/179\u001b[0m \u001b[32m━━━━━━━━━━━━━━━━━━━━\u001b[0m\u001b[37m\u001b[0m \u001b[1m84s\u001b[0m 469ms/step - accuracy: 0.8384 - loss: 0.4389 - val_accuracy: 0.8063 - val_loss: 0.5209\n",
      "Epoch 14/20\n",
      "\u001b[1m179/179\u001b[0m \u001b[32m━━━━━━━━━━━━━━━━━━━━\u001b[0m\u001b[37m\u001b[0m \u001b[1m78s\u001b[0m 436ms/step - accuracy: 0.8374 - loss: 0.4370 - val_accuracy: 0.8070 - val_loss: 0.4747\n",
      "Epoch 15/20\n",
      "\u001b[1m179/179\u001b[0m \u001b[32m━━━━━━━━━━━━━━━━━━━━\u001b[0m\u001b[37m\u001b[0m \u001b[1m75s\u001b[0m 420ms/step - accuracy: 0.8512 - loss: 0.4105 - val_accuracy: 0.8162 - val_loss: 0.4161\n",
      "Epoch 16/20\n",
      "\u001b[1m179/179\u001b[0m \u001b[32m━━━━━━━━━━━━━━━━━━━━\u001b[0m\u001b[37m\u001b[0m \u001b[1m76s\u001b[0m 422ms/step - accuracy: 0.8421 - loss: 0.4252 - val_accuracy: 0.7963 - val_loss: 0.5208\n",
      "Epoch 17/20\n",
      "\u001b[1m179/179\u001b[0m \u001b[32m━━━━━━━━━━━━━━━━━━━━\u001b[0m\u001b[37m\u001b[0m \u001b[1m82s\u001b[0m 456ms/step - accuracy: 0.8400 - loss: 0.4401 - val_accuracy: 0.7963 - val_loss: 0.5251\n",
      "Epoch 18/20\n",
      "\u001b[1m179/179\u001b[0m \u001b[32m━━━━━━━━━━━━━━━━━━━━\u001b[0m\u001b[37m\u001b[0m \u001b[1m85s\u001b[0m 474ms/step - accuracy: 0.8452 - loss: 0.4105 - val_accuracy: 0.8253 - val_loss: 0.4507\n",
      "Epoch 19/20\n",
      "\u001b[1m179/179\u001b[0m \u001b[32m━━━━━━━━━━━━━━━━━━━━\u001b[0m\u001b[37m\u001b[0m \u001b[1m85s\u001b[0m 476ms/step - accuracy: 0.8576 - loss: 0.3988 - val_accuracy: 0.8108 - val_loss: 0.4903\n",
      "Epoch 20/20\n",
      "\u001b[1m179/179\u001b[0m \u001b[32m━━━━━━━━━━━━━━━━━━━━\u001b[0m\u001b[37m\u001b[0m \u001b[1m77s\u001b[0m 427ms/step - accuracy: 0.8599 - loss: 0.3847 - val_accuracy: 0.8330 - val_loss: 0.3854\n"
     ]
    }
   ],
   "source": [
    "#train the model\n",
    "history = model.fit(\n",
    "    train_generator,\n",
    "    epochs = 20, #run 10 iterations\n",
    "    validation_data = test_generator\n",
    ")\n",
    "# Save the trained model\n",
    "model.save(\"../models/brain_tumor_cnn.keras\")\n"
   ]
  }
 ],
 "metadata": {
  "kernelspec": {
   "display_name": "Python 3 (ipykernel)",
   "language": "python",
   "name": "python3"
  },
  "language_info": {
   "codemirror_mode": {
    "name": "ipython",
    "version": 3
   },
   "file_extension": ".py",
   "mimetype": "text/x-python",
   "name": "python",
   "nbconvert_exporter": "python",
   "pygments_lexer": "ipython3",
   "version": "3.11.7"
  }
 },
 "nbformat": 4,
 "nbformat_minor": 2
}
